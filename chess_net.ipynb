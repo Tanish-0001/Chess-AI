{
 "cells": [
  {
   "cell_type": "code",
   "id": "initial_id",
   "metadata": {
    "collapsed": true,
    "ExecuteTime": {
     "end_time": "2024-07-27T06:25:22.936439Z",
     "start_time": "2024-07-27T06:25:02.730593Z"
    }
   },
   "source": "!pip install chess",
   "outputs": [
    {
     "name": "stdout",
     "output_type": "stream",
     "text": [
      "Collecting chess\n",
      "  Using cached chess-1.10.0-py3-none-any.whl.metadata (19 kB)\n",
      "Using cached chess-1.10.0-py3-none-any.whl (154 kB)\n",
      "Installing collected packages: chess\n",
      "Successfully installed chess-1.10.0\n"
     ]
    }
   ],
   "execution_count": 4
  },
  {
   "metadata": {
    "ExecuteTime": {
     "end_time": "2024-07-28T09:19:03.398004Z",
     "start_time": "2024-07-28T09:19:00.651515Z"
    }
   },
   "cell_type": "code",
   "source": [
    "import torch\n",
    "import torch.nn as nn\n",
    "from generate_training_data import load_dataset\n",
    "import numpy as np"
   ],
   "id": "8c779722a1df639",
   "outputs": [],
   "execution_count": 1
  },
  {
   "metadata": {
    "ExecuteTime": {
     "end_time": "2024-07-28T09:19:05.860490Z",
     "start_time": "2024-07-28T09:19:04.538743Z"
    }
   },
   "cell_type": "code",
   "source": [
    "class ChessNet(nn.Module):\n",
    "    def __init__(self):\n",
    "        super(ChessNet, self).__init__()\n",
    "        self.relu = nn.ReLU()\n",
    "        self.fc1 = nn.Linear(14 * 8 * 8, 256)\n",
    "        self.fc2 = nn.Linear(256, 256)\n",
    "        self.out1 = nn.Linear(256, 64)\n",
    "        self.out2 = nn.Linear(256, 64)\n",
    "\n",
    "    def forward(self, x):\n",
    "        x = self.relu(self.fc2(self.relu(self.fc1(x))))\n",
    "        from_square = self.out1(x)\n",
    "        to_square = self.out2(x)\n",
    "        return from_square, to_square\n",
    "\n",
    "\n",
    "device = torch.device(\"cuda\" if torch.cuda.is_available() else \"cpu\")\n",
    "model = ChessNet().to(device)\n",
    "optimizer = torch.optim.Adam(model.parameters(), lr=0.001)\n",
    "scheduler = torch.optim.lr_scheduler.StepLR(optimizer, step_size=10, gamma=0.1)  # Learning rate scheduler\n",
    "loss_fn = nn.CrossEntropyLoss()"
   ],
   "id": "3a900cee07a69b2c",
   "outputs": [],
   "execution_count": 2
  },
  {
   "metadata": {
    "ExecuteTime": {
     "end_time": "2024-07-28T05:37:31.854358Z",
     "start_time": "2024-07-28T05:37:31.838586Z"
    }
   },
   "cell_type": "code",
   "source": [
    "class EarlyStopping:\n",
    "    def __init__(self, tolerance=5, min_delta=0):\n",
    "\n",
    "        self.tolerance = tolerance\n",
    "        self.min_delta = min_delta\n",
    "        self.counter = 0\n",
    "        self.early_stop = False\n",
    "\n",
    "    def __call__(self, prev_loss, curr_loss):\n",
    "        if abs(curr_loss - prev_loss) < self.min_delta:\n",
    "            self.counter += 1\n",
    "            if self.counter >= self.tolerance:  \n",
    "                self.early_stop = True\n",
    "                \n",
    "early_stopping = EarlyStopping(tolerance=2, min_delta=0.0001)"
   ],
   "id": "efad094ec706fe43",
   "outputs": [],
   "execution_count": 53
  },
  {
   "metadata": {
    "ExecuteTime": {
     "end_time": "2024-07-28T05:37:59.838502Z",
     "start_time": "2024-07-28T05:37:38.887775Z"
    }
   },
   "cell_type": "code",
   "source": [
    "x_train, y_train = load_dataset(2048)\n",
    "x_train = torch.from_numpy(x_train.reshape(-1, 14 * 8 * 8).astype(np.float32)).to(device)\n",
    "y_train_from = torch.tensor([move[0] for move in y_train], dtype=torch.long).to(device)\n",
    "y_train_to = torch.tensor([move[1] for move in y_train], dtype=torch.long).to(device)"
   ],
   "id": "f001c7fa4888c4b2",
   "outputs": [],
   "execution_count": 54
  },
  {
   "metadata": {
    "ExecuteTime": {
     "end_time": "2024-07-28T05:52:14.580699Z",
     "start_time": "2024-07-28T05:38:17.772513Z"
    }
   },
   "cell_type": "code",
   "source": [
    "num_epochs = 100\n",
    "num_examples = len(x_train)\n",
    "batch_size = 16\n",
    "prev_loss = float(\"inf\")\n",
    "for epoch in range(num_epochs):\n",
    "    \n",
    "    for i in range(0, len(x_train), batch_size):\n",
    "        batch_x = x_train[i:i + batch_size]\n",
    "        batch_y_from = y_train_from[i:i + batch_size]\n",
    "        batch_y_to = y_train_to[i:i + batch_size]\n",
    "\n",
    "        optimizer.zero_grad()\n",
    "        predicted_source, predicted_destination = model(batch_x)\n",
    "\n",
    "        loss_from = loss_fn(predicted_source, batch_y_from)\n",
    "        loss_to = loss_fn(predicted_destination, batch_y_to)\n",
    "\n",
    "        loss = loss_from + loss_to\n",
    "        loss.backward()\n",
    "        optimizer.step()\n",
    "\n",
    "    scheduler.step()  # Update the learning rate\n",
    "    \n",
    "    early_stopping(curr_loss=loss.item(), prev_loss=prev_loss)\n",
    "    if early_stopping.early_stop:\n",
    "        print(\"Early stopping\")\n",
    "        break\n",
    "    prev_loss = loss.item()\n",
    "    \n",
    "    if epoch % 10 == 0:\n",
    "        print(f'Epoch {epoch + 1}/{num_epochs} Loss: {loss.item():.4f}')\n",
    "        \n",
    "print(\"Final loss: \", loss.item())\n"
   ],
   "id": "119a19be54c5cafd",
   "outputs": [
    {
     "name": "stdout",
     "output_type": "stream",
     "text": [
      "Epoch 1/100 Loss: 4.8713\n",
      "Epoch 11/100 Loss: 0.5512\n",
      "Epoch 21/100 Loss: 0.1975\n",
      "Epoch 31/100 Loss: 0.1901\n",
      "Early stopping\n",
      "Final loss:  0.1882476508617401\n"
     ]
    }
   ],
   "execution_count": 55
  },
  {
   "metadata": {
    "ExecuteTime": {
     "end_time": "2024-07-28T06:00:26.608307Z",
     "start_time": "2024-07-28T06:00:26.576575Z"
    }
   },
   "cell_type": "code",
   "source": [
    "PATH = 'chess_net.pth'\n",
    "torch.save(model.state_dict(), PATH)"
   ],
   "id": "aed499d9fdc3bcc8",
   "outputs": [],
   "execution_count": 56
  },
  {
   "metadata": {
    "ExecuteTime": {
     "end_time": "2024-07-28T06:00:32.008718Z",
     "start_time": "2024-07-28T06:00:31.959149Z"
    }
   },
   "cell_type": "code",
   "source": [
    "import chess\n",
    "from chess_board import get_chess_board, square_to_coord\n",
    "new_board = chess.Board()\n",
    "\n",
    "model = ChessNet().to(device)\n",
    "model.load_state_dict(torch.load('chess_net.pth'))\n",
    "\n",
    "with torch.no_grad():\n",
    "    \n",
    "    num_moves = 16\n",
    "    while not new_board.is_game_over() and num_moves:\n",
    "        featurized = torch.from_numpy(get_chess_board(new_board).reshape(-1, 14 * 8 * 8).astype(np.float32))\n",
    "        \n",
    "        predicted_source, predicted_destination = model(featurized)\n",
    "        source = square_to_coord(torch.argmax(predicted_source, 1)[0].data.item())\n",
    "        destination = square_to_coord(torch.argmax(predicted_destination, 1)[0].data.item())\n",
    "        \n",
    "        uci = source + destination\n",
    "        print(uci)\n",
    "        new_board.push_uci(uci)\n",
    "        \n",
    "        # print(new_board)\n",
    "        # print(\"\\n\")\n",
    "        \n",
    "        num_moves -= 1\n",
    "    \n",
    "    # predicted_source, predicted_destination = model(featurized)\n",
    "    # source = square_to_coord(torch.argmax(predicted_source, 1)[0].data.item())\n",
    "    # destination = square_to_coord(torch.argmax(predicted_destination, 1)[0].data.item())\n",
    "    # \n",
    "    # uci = source + destination\n",
    "    # new_board.push_uci(uci)\n",
    "    "
   ],
   "id": "856c704b3ff75f9e",
   "outputs": [
    {
     "name": "stdout",
     "output_type": "stream",
     "text": [
      "e2e4\n",
      "e7e5\n",
      "g1f3\n",
      "b8c6\n",
      "f1b5\n",
      "a7a6\n",
      "b5a4\n",
      "g8f6\n",
      "e1g1\n",
      "f6e4\n",
      "f1e1\n",
      "e4c5\n",
      "a4c6\n",
      "d7c6\n",
      "f3e5\n",
      "d8e6\n"
     ]
    },
    {
     "ename": "IllegalMoveError",
     "evalue": "illegal uci: 'd8e6' in r1bqkb1r/1pp2ppp/p1p5/2n1N3/8/8/PPPP1PPP/RNBQR1K1 b kq - 0 8",
     "output_type": "error",
     "traceback": [
      "\u001B[1;31m---------------------------------------------------------------------------\u001B[0m",
      "\u001B[1;31mIllegalMoveError\u001B[0m                          Traceback (most recent call last)",
      "Cell \u001B[1;32mIn[57], line 20\u001B[0m\n\u001B[0;32m     18\u001B[0m uci \u001B[38;5;241m=\u001B[39m source \u001B[38;5;241m+\u001B[39m destination\n\u001B[0;32m     19\u001B[0m \u001B[38;5;28mprint\u001B[39m(uci)\n\u001B[1;32m---> 20\u001B[0m \u001B[43mnew_board\u001B[49m\u001B[38;5;241;43m.\u001B[39;49m\u001B[43mpush_uci\u001B[49m\u001B[43m(\u001B[49m\u001B[43muci\u001B[49m\u001B[43m)\u001B[49m\n\u001B[0;32m     22\u001B[0m \u001B[38;5;66;03m# print(new_board)\u001B[39;00m\n\u001B[0;32m     23\u001B[0m \u001B[38;5;66;03m# print(\"\\n\")\u001B[39;00m\n\u001B[0;32m     25\u001B[0m num_moves \u001B[38;5;241m-\u001B[39m\u001B[38;5;241m=\u001B[39m \u001B[38;5;241m1\u001B[39m\n",
      "File \u001B[1;32m~\\PycharmProjects\\pythonProject\\venv\\lib\\site-packages\\chess\\__init__.py:3164\u001B[0m, in \u001B[0;36mBoard.push_uci\u001B[1;34m(self, uci)\u001B[0m\n\u001B[0;32m   3151\u001B[0m \u001B[38;5;28;01mdef\u001B[39;00m \u001B[38;5;21mpush_uci\u001B[39m(\u001B[38;5;28mself\u001B[39m, uci: \u001B[38;5;28mstr\u001B[39m) \u001B[38;5;241m-\u001B[39m\u001B[38;5;241m>\u001B[39m Move:\n\u001B[0;32m   3152\u001B[0m \u001B[38;5;250m    \u001B[39m\u001B[38;5;124;03m\"\"\"\u001B[39;00m\n\u001B[0;32m   3153\u001B[0m \u001B[38;5;124;03m    Parses a move in UCI notation and puts it on the move stack.\u001B[39;00m\n\u001B[0;32m   3154\u001B[0m \n\u001B[1;32m   (...)\u001B[0m\n\u001B[0;32m   3162\u001B[0m \u001B[38;5;124;03m        - :exc:`IllegalMoveError` if the UCI is illegal.\u001B[39;00m\n\u001B[0;32m   3163\u001B[0m \u001B[38;5;124;03m    \"\"\"\u001B[39;00m\n\u001B[1;32m-> 3164\u001B[0m     move \u001B[38;5;241m=\u001B[39m \u001B[38;5;28;43mself\u001B[39;49m\u001B[38;5;241;43m.\u001B[39;49m\u001B[43mparse_uci\u001B[49m\u001B[43m(\u001B[49m\u001B[43muci\u001B[49m\u001B[43m)\u001B[49m\n\u001B[0;32m   3165\u001B[0m     \u001B[38;5;28mself\u001B[39m\u001B[38;5;241m.\u001B[39mpush(move)\n\u001B[0;32m   3166\u001B[0m     \u001B[38;5;28;01mreturn\u001B[39;00m move\n",
      "File \u001B[1;32m~\\PycharmProjects\\pythonProject\\venv\\lib\\site-packages\\chess\\__init__.py:3147\u001B[0m, in \u001B[0;36mBoard.parse_uci\u001B[1;34m(self, uci)\u001B[0m\n\u001B[0;32m   3144\u001B[0m move \u001B[38;5;241m=\u001B[39m \u001B[38;5;28mself\u001B[39m\u001B[38;5;241m.\u001B[39m_from_chess960(\u001B[38;5;28mself\u001B[39m\u001B[38;5;241m.\u001B[39mchess960, move\u001B[38;5;241m.\u001B[39mfrom_square, move\u001B[38;5;241m.\u001B[39mto_square, move\u001B[38;5;241m.\u001B[39mpromotion, move\u001B[38;5;241m.\u001B[39mdrop)\n\u001B[0;32m   3146\u001B[0m \u001B[38;5;28;01mif\u001B[39;00m \u001B[38;5;129;01mnot\u001B[39;00m \u001B[38;5;28mself\u001B[39m\u001B[38;5;241m.\u001B[39mis_legal(move):\n\u001B[1;32m-> 3147\u001B[0m     \u001B[38;5;28;01mraise\u001B[39;00m IllegalMoveError(\u001B[38;5;124mf\u001B[39m\u001B[38;5;124m\"\u001B[39m\u001B[38;5;124millegal uci: \u001B[39m\u001B[38;5;132;01m{\u001B[39;00muci\u001B[38;5;132;01m!r}\u001B[39;00m\u001B[38;5;124m in \u001B[39m\u001B[38;5;132;01m{\u001B[39;00m\u001B[38;5;28mself\u001B[39m\u001B[38;5;241m.\u001B[39mfen()\u001B[38;5;132;01m}\u001B[39;00m\u001B[38;5;124m\"\u001B[39m)\n\u001B[0;32m   3149\u001B[0m \u001B[38;5;28;01mreturn\u001B[39;00m move\n",
      "\u001B[1;31mIllegalMoveError\u001B[0m: illegal uci: 'd8e6' in r1bqkb1r/1pp2ppp/p1p5/2n1N3/8/8/PPPP1PPP/RNBQR1K1 b kq - 0 8"
     ]
    }
   ],
   "execution_count": 57
  },
  {
   "metadata": {},
   "cell_type": "code",
   "outputs": [],
   "execution_count": null,
   "source": [
    "class ChessNetCNN(nn.Module):\n",
    "    def __init__(self):\n",
    "        super(ChessNetCNN, self).__init__()\n",
    "        self.conv1 = nn.Conv2d(in_channels=14, out_channels=48, kernel_size=3, padding=1)\n",
    "        self.conv2 = nn.Conv2d(in_channels=48, out_channels=96, kernel_size=3, padding=1)\n",
    "        self.conv3 = nn.Conv2d(in_channels=96, out_channels=128, kernel_size=3)\n",
    "        self.relu = nn.ReLU()\n",
    "        self.pool = nn.MaxPool2d(kernel_size=2, stride=2)\n",
    "        self.dropout = nn.Dropout(p=0.2)\n",
    "        \n",
    "        self.fc1 = nn.Linear(0, 256)\n",
    "        \n",
    "    def forward(self, x):\n",
    "        x = self.relu(self.conv1(x))\n",
    "        x = self.pool(x)\n",
    "        x = self.relu(self.conv2(x))"
   ],
   "id": "202638f924dad701"
  },
  {
   "metadata": {
    "ExecuteTime": {
     "end_time": "2024-07-28T09:46:26.292968Z",
     "start_time": "2024-07-28T09:46:25.517605Z"
    }
   },
   "cell_type": "code",
   "source": [
    "import chess.engine\n",
    "\n",
    "engine = chess.engine.SimpleEngine.popen_uci(r\"C:\\Users\\jaint\\stockfish\\stockfish-windows-x86-64-avx2\")\n",
    "\n",
    "def evaluate_board(board):\n",
    "    result = engine.analyse(board, chess.engine.Limit(time=0.1))  # gives stockfish score of the current position (scaled up by 100)\n",
    "    evaluation = result[\"score\"]\n",
    "    if evaluation.is_mate():\n",
    "        plies = evaluation.pov(chess.WHITE).mate()\n",
    "        if plies > 0:\n",
    "            return (31 - plies) * 100  # return a large positive score that decays with the number of moves till mate\n",
    "        return (-31 - plies) * 100\n",
    "    return result[\"score\"].relative.score()\n"
   ],
   "id": "5909c040a5a7361a",
   "outputs": [],
   "execution_count": 6
  },
  {
   "metadata": {
    "ExecuteTime": {
     "end_time": "2024-07-28T06:02:13.182671Z",
     "start_time": "2024-07-28T06:02:13.157133Z"
    }
   },
   "cell_type": "code",
   "source": [
    "model = ChessNet().to(device)\n",
    "model.load_state_dict(torch.load('chess_net.pth'))"
   ],
   "id": "4eda0cb230b92308",
   "outputs": [
    {
     "data": {
      "text/plain": [
       "<All keys matched successfully>"
      ]
     },
     "execution_count": 59,
     "metadata": {},
     "output_type": "execute_result"
    }
   ],
   "execution_count": 59
  },
  {
   "metadata": {
    "ExecuteTime": {
     "end_time": "2024-07-28T09:52:11.065824Z",
     "start_time": "2024-07-28T09:51:50.682659Z"
    }
   },
   "cell_type": "code",
   "source": [
    "import random\n",
    "from chess_board import get_chess_board\n",
    "memory = []\n",
    "gamma = 0.99\n",
    "batch_size = 256\n",
    "\n",
    "random.seed(42)\n",
    "\n",
    "loss_fn = torch.nn.MSELoss()\n",
    "optimizer = torch.optim.Adam(model.parameters(), lr=1e-3)\n",
    "\n",
    "\n",
    "def choose_action(board):\n",
    "    if random.random() < 0.2:\n",
    "        return random.choice(list(board.legal_moves))\n",
    "    else:\n",
    "        tensor = torch.from_numpy(get_chess_board(board).reshape(-1, 14 * 8 * 8).astype(np.float32)).to(device)\n",
    "        q_values = model(tensor)\n",
    "        move_source, move_destination = q_values\n",
    "        move_source = square_to_coord(torch.argmax(move_source, 1)[0].data.item())\n",
    "        move_destination = square_to_coord(torch.argmax(move_destination, 1)[0].data.item())\n",
    "        \n",
    "        UCI = move_source + move_destination\n",
    "        \n",
    "        return chess.Move.from_uci(UCI)\n",
    "    \n",
    "    \n",
    "def train_model():\n",
    "\n",
    "    if len(memory) < batch_size:\n",
    "        return\n",
    "    batch = random.sample(memory, batch_size)\n",
    "    states, actions, rewards, next_states, dones = zip(*batch)\n",
    "\n",
    "    states = torch.stack(states).to(device)  # Convert states to a batch tensor\n",
    "    rewards = torch.tensor(rewards, dtype=torch.float32).reshape(batch_size, -1).to(device)  # Convert rewards to a tensor\n",
    "    dones = torch.tensor(dones, dtype=torch.float32).reshape(batch_size, -1).to(device)  # Convert dones to a tensor\n",
    "        \n",
    "    q_values = model(states)  # Predict Q-values for current states\n",
    "    from_squares = q_values[0]\n",
    "    to_squares = q_values[1]\n",
    "    \n",
    "    from_squares = torch.argmax(from_squares, dim=2)\n",
    "    to_squares = torch.argmax(to_squares, dim=2)\n",
    "    \n",
    "    next_from_squares = torch.zeros(size=(batch_size, 1, 64)) \n",
    "    next_to_squares = torch.zeros(size=(batch_size, 1, 64))\n",
    "    non_terminal_mask = torch.tensor([s is not None for s in next_states], dtype=torch.bool)\n",
    "\n",
    "    if non_terminal_mask.any():\n",
    "        non_terminal_next_states = torch.stack([s for s in next_states if s is not None])\n",
    "        next_from_squares[non_terminal_mask], next_to_squares[non_terminal_mask] = model(non_terminal_next_states)\n",
    "\n",
    "\n",
    "    next_from_squares = torch.argmax(next_from_squares, dim=2)\n",
    "    next_to_squares = torch.argmax(next_to_squares, dim=2)\n",
    "        \n",
    "    target_from_values = rewards + gamma * next_from_squares * (1 - dones)\n",
    "    target_to_values = rewards + gamma * next_to_squares * (1 - dones)\n",
    "\n",
    "    loss_f = loss_fn(from_squares, target_from_values)\n",
    "    loss_t = loss_fn(to_squares, target_to_values)\n",
    "\n",
    "    loss = loss_f + loss_t\n",
    "    loss.requires_grad = True\n",
    "    optimizer.zero_grad()\n",
    "    loss.backward()  # Backpropagate the loss\n",
    "    optimizer.step()  # Update the network weights\n",
    "\n",
    "\n",
    "for episode in range(10000):\n",
    "    board = chess.Board()\n",
    "    while not board.is_game_over():\n",
    "        state = torch.from_numpy(get_chess_board(board).reshape(-1, 14 * 8 * 8).astype(np.float32))\n",
    "        action = choose_action(board)\n",
    "\n",
    "        if action in board.legal_moves:\n",
    "            board.push(action)\n",
    "            next_state = torch.from_numpy(get_chess_board(board).reshape(-1, 14 * 8 * 8).astype(np.float32))\n",
    "            reward = evaluate_board(board)\n",
    "            done = board.is_game_over()\n",
    "        else:\n",
    "            reward = -10000\n",
    "            next_state = None\n",
    "            done = 1\n",
    "        memory.append((state, action, reward, next_state, done))\n",
    "        if done:\n",
    "            break\n",
    "    train_model()\n",
    "    if episode % 200 == 0:\n",
    "        print(f\"Episode: {episode + 1}\")\n"
   ],
   "id": "5cec1ac7b33611c0",
   "outputs": [
    {
     "name": "stdout",
     "output_type": "stream",
     "text": [
      "Episode: 1\n"
     ]
    },
    {
     "ename": "KeyboardInterrupt",
     "evalue": "",
     "output_type": "error",
     "traceback": [
      "\u001B[1;31m---------------------------------------------------------------------------\u001B[0m",
      "\u001B[1;31mKeyboardInterrupt\u001B[0m                         Traceback (most recent call last)",
      "Cell \u001B[1;32mIn[14], line 80\u001B[0m\n\u001B[0;32m     78\u001B[0m     board\u001B[38;5;241m.\u001B[39mpush(action)\n\u001B[0;32m     79\u001B[0m     next_state \u001B[38;5;241m=\u001B[39m torch\u001B[38;5;241m.\u001B[39mfrom_numpy(get_chess_board(board)\u001B[38;5;241m.\u001B[39mreshape(\u001B[38;5;241m-\u001B[39m\u001B[38;5;241m1\u001B[39m, \u001B[38;5;241m14\u001B[39m \u001B[38;5;241m*\u001B[39m \u001B[38;5;241m8\u001B[39m \u001B[38;5;241m*\u001B[39m \u001B[38;5;241m8\u001B[39m)\u001B[38;5;241m.\u001B[39mastype(np\u001B[38;5;241m.\u001B[39mfloat32))\n\u001B[1;32m---> 80\u001B[0m     reward \u001B[38;5;241m=\u001B[39m \u001B[43mevaluate_board\u001B[49m\u001B[43m(\u001B[49m\u001B[43mboard\u001B[49m\u001B[43m)\u001B[49m\n\u001B[0;32m     81\u001B[0m     done \u001B[38;5;241m=\u001B[39m board\u001B[38;5;241m.\u001B[39mis_game_over()\n\u001B[0;32m     82\u001B[0m \u001B[38;5;28;01melse\u001B[39;00m:\n",
      "Cell \u001B[1;32mIn[6], line 6\u001B[0m, in \u001B[0;36mevaluate_board\u001B[1;34m(board)\u001B[0m\n\u001B[0;32m      5\u001B[0m \u001B[38;5;28;01mdef\u001B[39;00m \u001B[38;5;21mevaluate_board\u001B[39m(board):\n\u001B[1;32m----> 6\u001B[0m     result \u001B[38;5;241m=\u001B[39m \u001B[43mengine\u001B[49m\u001B[38;5;241;43m.\u001B[39;49m\u001B[43manalyse\u001B[49m\u001B[43m(\u001B[49m\u001B[43mboard\u001B[49m\u001B[43m,\u001B[49m\u001B[43m \u001B[49m\u001B[43mchess\u001B[49m\u001B[38;5;241;43m.\u001B[39;49m\u001B[43mengine\u001B[49m\u001B[38;5;241;43m.\u001B[39;49m\u001B[43mLimit\u001B[49m\u001B[43m(\u001B[49m\u001B[43mtime\u001B[49m\u001B[38;5;241;43m=\u001B[39;49m\u001B[38;5;241;43m0.1\u001B[39;49m\u001B[43m)\u001B[49m\u001B[43m)\u001B[49m  \u001B[38;5;66;03m# gives stockfish score of the current position (scaled up by 100)\u001B[39;00m\n\u001B[0;32m      7\u001B[0m     evaluation \u001B[38;5;241m=\u001B[39m result[\u001B[38;5;124m\"\u001B[39m\u001B[38;5;124mscore\u001B[39m\u001B[38;5;124m\"\u001B[39m]\n\u001B[0;32m      8\u001B[0m     \u001B[38;5;28;01mif\u001B[39;00m evaluation\u001B[38;5;241m.\u001B[39mis_mate():\n",
      "File \u001B[1;32m~\\PycharmProjects\\pythonProject\\venv\\lib\\site-packages\\chess\\engine.py:2996\u001B[0m, in \u001B[0;36mSimpleEngine.analyse\u001B[1;34m(self, board, limit, multipv, game, info, root_moves, options)\u001B[0m\n\u001B[0;32m   2992\u001B[0m     coro \u001B[38;5;241m=\u001B[39m asyncio\u001B[38;5;241m.\u001B[39mwait_for(\n\u001B[0;32m   2993\u001B[0m         \u001B[38;5;28mself\u001B[39m\u001B[38;5;241m.\u001B[39mprotocol\u001B[38;5;241m.\u001B[39manalyse(board, limit, multipv\u001B[38;5;241m=\u001B[39mmultipv, game\u001B[38;5;241m=\u001B[39mgame, info\u001B[38;5;241m=\u001B[39minfo, root_moves\u001B[38;5;241m=\u001B[39mroot_moves, options\u001B[38;5;241m=\u001B[39moptions),\n\u001B[0;32m   2994\u001B[0m         \u001B[38;5;28mself\u001B[39m\u001B[38;5;241m.\u001B[39m_timeout_for(limit))\n\u001B[0;32m   2995\u001B[0m     future \u001B[38;5;241m=\u001B[39m asyncio\u001B[38;5;241m.\u001B[39mrun_coroutine_threadsafe(coro, \u001B[38;5;28mself\u001B[39m\u001B[38;5;241m.\u001B[39mprotocol\u001B[38;5;241m.\u001B[39mloop)\n\u001B[1;32m-> 2996\u001B[0m \u001B[38;5;28;01mreturn\u001B[39;00m \u001B[43mfuture\u001B[49m\u001B[38;5;241;43m.\u001B[39;49m\u001B[43mresult\u001B[49m\u001B[43m(\u001B[49m\u001B[43m)\u001B[49m\n",
      "File \u001B[1;32m~\\AppData\\Local\\Programs\\Python\\Python310\\lib\\concurrent\\futures\\_base.py:453\u001B[0m, in \u001B[0;36mFuture.result\u001B[1;34m(self, timeout)\u001B[0m\n\u001B[0;32m    450\u001B[0m \u001B[38;5;28;01melif\u001B[39;00m \u001B[38;5;28mself\u001B[39m\u001B[38;5;241m.\u001B[39m_state \u001B[38;5;241m==\u001B[39m FINISHED:\n\u001B[0;32m    451\u001B[0m     \u001B[38;5;28;01mreturn\u001B[39;00m \u001B[38;5;28mself\u001B[39m\u001B[38;5;241m.\u001B[39m__get_result()\n\u001B[1;32m--> 453\u001B[0m \u001B[38;5;28;43mself\u001B[39;49m\u001B[38;5;241;43m.\u001B[39;49m\u001B[43m_condition\u001B[49m\u001B[38;5;241;43m.\u001B[39;49m\u001B[43mwait\u001B[49m\u001B[43m(\u001B[49m\u001B[43mtimeout\u001B[49m\u001B[43m)\u001B[49m\n\u001B[0;32m    455\u001B[0m \u001B[38;5;28;01mif\u001B[39;00m \u001B[38;5;28mself\u001B[39m\u001B[38;5;241m.\u001B[39m_state \u001B[38;5;129;01min\u001B[39;00m [CANCELLED, CANCELLED_AND_NOTIFIED]:\n\u001B[0;32m    456\u001B[0m     \u001B[38;5;28;01mraise\u001B[39;00m CancelledError()\n",
      "File \u001B[1;32m~\\AppData\\Local\\Programs\\Python\\Python310\\lib\\threading.py:320\u001B[0m, in \u001B[0;36mCondition.wait\u001B[1;34m(self, timeout)\u001B[0m\n\u001B[0;32m    318\u001B[0m \u001B[38;5;28;01mtry\u001B[39;00m:    \u001B[38;5;66;03m# restore state no matter what (e.g., KeyboardInterrupt)\u001B[39;00m\n\u001B[0;32m    319\u001B[0m     \u001B[38;5;28;01mif\u001B[39;00m timeout \u001B[38;5;129;01mis\u001B[39;00m \u001B[38;5;28;01mNone\u001B[39;00m:\n\u001B[1;32m--> 320\u001B[0m         \u001B[43mwaiter\u001B[49m\u001B[38;5;241;43m.\u001B[39;49m\u001B[43macquire\u001B[49m\u001B[43m(\u001B[49m\u001B[43m)\u001B[49m\n\u001B[0;32m    321\u001B[0m         gotit \u001B[38;5;241m=\u001B[39m \u001B[38;5;28;01mTrue\u001B[39;00m\n\u001B[0;32m    322\u001B[0m     \u001B[38;5;28;01melse\u001B[39;00m:\n",
      "\u001B[1;31mKeyboardInterrupt\u001B[0m: "
     ]
    }
   ],
   "execution_count": 14
  },
  {
   "metadata": {
    "ExecuteTime": {
     "end_time": "2024-07-28T09:50:52.924619Z",
     "start_time": "2024-07-28T09:50:52.904886Z"
    }
   },
   "cell_type": "code",
   "source": [
    "PATH = 'chess_net_linear_RL.pth'\n",
    "torch.save(model.state_dict(), PATH)"
   ],
   "id": "a4210075d80c09e8",
   "outputs": [],
   "execution_count": 9
  },
  {
   "metadata": {
    "ExecuteTime": {
     "end_time": "2024-07-28T09:51:37.850560Z",
     "start_time": "2024-07-28T09:51:37.834900Z"
    }
   },
   "cell_type": "code",
   "source": [
    "model = ChessNet().to(device)\n",
    "model.load_state_dict(torch.load('chess_net_linear_RL.pth'))"
   ],
   "id": "c5010b0304e8ad5b",
   "outputs": [
    {
     "data": {
      "text/plain": [
       "<All keys matched successfully>"
      ]
     },
     "execution_count": 12,
     "metadata": {},
     "output_type": "execute_result"
    }
   ],
   "execution_count": 12
  },
  {
   "metadata": {
    "ExecuteTime": {
     "end_time": "2024-07-28T09:51:39.695718Z",
     "start_time": "2024-07-28T09:51:39.647722Z"
    }
   },
   "cell_type": "code",
   "source": [
    "import chess\n",
    "from chess_board import get_chess_board, square_to_coord\n",
    "new_board = chess.Board()\n",
    "\n",
    "with torch.no_grad():\n",
    "    \n",
    "    while not new_board.is_game_over():\n",
    "        featurized = torch.from_numpy(get_chess_board(new_board).reshape(-1, 14 * 8 * 8).astype(np.float32))\n",
    "        \n",
    "        predicted_source, predicted_destination = model(featurized)\n",
    "        source = square_to_coord(torch.argmax(predicted_source, 1)[0].data.item())\n",
    "        destination = square_to_coord(torch.argmax(predicted_destination, 1)[0].data.item())\n",
    "        \n",
    "        uci = source + destination\n",
    "        print(uci)\n",
    "        new_board.push_uci(uci)\n",
    "        "
   ],
   "id": "d46f0aa3be789d87",
   "outputs": [
    {
     "name": "stdout",
     "output_type": "stream",
     "text": [
      "e2e4\n",
      "e7e5\n",
      "g1f3\n",
      "b8c6\n",
      "f1b5\n",
      "a7a6\n",
      "b5a4\n",
      "g8f6\n",
      "e1g1\n",
      "f6e4\n",
      "f1e1\n",
      "e4c5\n",
      "a4c6\n",
      "d7c6\n",
      "f3e5\n",
      "d8e6\n"
     ]
    },
    {
     "ename": "IllegalMoveError",
     "evalue": "illegal uci: 'd8e6' in r1bqkb1r/1pp2ppp/p1p5/2n1N3/8/8/PPPP1PPP/RNBQR1K1 b kq - 0 8",
     "output_type": "error",
     "traceback": [
      "\u001B[1;31m---------------------------------------------------------------------------\u001B[0m",
      "\u001B[1;31mIllegalMoveError\u001B[0m                          Traceback (most recent call last)",
      "Cell \u001B[1;32mIn[13], line 16\u001B[0m\n\u001B[0;32m     14\u001B[0m uci \u001B[38;5;241m=\u001B[39m source \u001B[38;5;241m+\u001B[39m destination\n\u001B[0;32m     15\u001B[0m \u001B[38;5;28mprint\u001B[39m(uci)\n\u001B[1;32m---> 16\u001B[0m \u001B[43mnew_board\u001B[49m\u001B[38;5;241;43m.\u001B[39;49m\u001B[43mpush_uci\u001B[49m\u001B[43m(\u001B[49m\u001B[43muci\u001B[49m\u001B[43m)\u001B[49m\n",
      "File \u001B[1;32m~\\PycharmProjects\\pythonProject\\venv\\lib\\site-packages\\chess\\__init__.py:3164\u001B[0m, in \u001B[0;36mBoard.push_uci\u001B[1;34m(self, uci)\u001B[0m\n\u001B[0;32m   3151\u001B[0m \u001B[38;5;28;01mdef\u001B[39;00m \u001B[38;5;21mpush_uci\u001B[39m(\u001B[38;5;28mself\u001B[39m, uci: \u001B[38;5;28mstr\u001B[39m) \u001B[38;5;241m-\u001B[39m\u001B[38;5;241m>\u001B[39m Move:\n\u001B[0;32m   3152\u001B[0m \u001B[38;5;250m    \u001B[39m\u001B[38;5;124;03m\"\"\"\u001B[39;00m\n\u001B[0;32m   3153\u001B[0m \u001B[38;5;124;03m    Parses a move in UCI notation and puts it on the move stack.\u001B[39;00m\n\u001B[0;32m   3154\u001B[0m \n\u001B[1;32m   (...)\u001B[0m\n\u001B[0;32m   3162\u001B[0m \u001B[38;5;124;03m        - :exc:`IllegalMoveError` if the UCI is illegal.\u001B[39;00m\n\u001B[0;32m   3163\u001B[0m \u001B[38;5;124;03m    \"\"\"\u001B[39;00m\n\u001B[1;32m-> 3164\u001B[0m     move \u001B[38;5;241m=\u001B[39m \u001B[38;5;28;43mself\u001B[39;49m\u001B[38;5;241;43m.\u001B[39;49m\u001B[43mparse_uci\u001B[49m\u001B[43m(\u001B[49m\u001B[43muci\u001B[49m\u001B[43m)\u001B[49m\n\u001B[0;32m   3165\u001B[0m     \u001B[38;5;28mself\u001B[39m\u001B[38;5;241m.\u001B[39mpush(move)\n\u001B[0;32m   3166\u001B[0m     \u001B[38;5;28;01mreturn\u001B[39;00m move\n",
      "File \u001B[1;32m~\\PycharmProjects\\pythonProject\\venv\\lib\\site-packages\\chess\\__init__.py:3147\u001B[0m, in \u001B[0;36mBoard.parse_uci\u001B[1;34m(self, uci)\u001B[0m\n\u001B[0;32m   3144\u001B[0m move \u001B[38;5;241m=\u001B[39m \u001B[38;5;28mself\u001B[39m\u001B[38;5;241m.\u001B[39m_from_chess960(\u001B[38;5;28mself\u001B[39m\u001B[38;5;241m.\u001B[39mchess960, move\u001B[38;5;241m.\u001B[39mfrom_square, move\u001B[38;5;241m.\u001B[39mto_square, move\u001B[38;5;241m.\u001B[39mpromotion, move\u001B[38;5;241m.\u001B[39mdrop)\n\u001B[0;32m   3146\u001B[0m \u001B[38;5;28;01mif\u001B[39;00m \u001B[38;5;129;01mnot\u001B[39;00m \u001B[38;5;28mself\u001B[39m\u001B[38;5;241m.\u001B[39mis_legal(move):\n\u001B[1;32m-> 3147\u001B[0m     \u001B[38;5;28;01mraise\u001B[39;00m IllegalMoveError(\u001B[38;5;124mf\u001B[39m\u001B[38;5;124m\"\u001B[39m\u001B[38;5;124millegal uci: \u001B[39m\u001B[38;5;132;01m{\u001B[39;00muci\u001B[38;5;132;01m!r}\u001B[39;00m\u001B[38;5;124m in \u001B[39m\u001B[38;5;132;01m{\u001B[39;00m\u001B[38;5;28mself\u001B[39m\u001B[38;5;241m.\u001B[39mfen()\u001B[38;5;132;01m}\u001B[39;00m\u001B[38;5;124m\"\u001B[39m)\n\u001B[0;32m   3149\u001B[0m \u001B[38;5;28;01mreturn\u001B[39;00m move\n",
      "\u001B[1;31mIllegalMoveError\u001B[0m: illegal uci: 'd8e6' in r1bqkb1r/1pp2ppp/p1p5/2n1N3/8/8/PPPP1PPP/RNBQR1K1 b kq - 0 8"
     ]
    }
   ],
   "execution_count": 13
  },
  {
   "metadata": {},
   "cell_type": "code",
   "outputs": [],
   "execution_count": null,
   "source": "",
   "id": "9b26a1b43e005d1e"
  }
 ],
 "metadata": {
  "kernelspec": {
   "display_name": "Python 3",
   "language": "python",
   "name": "python3"
  },
  "language_info": {
   "codemirror_mode": {
    "name": "ipython",
    "version": 2
   },
   "file_extension": ".py",
   "mimetype": "text/x-python",
   "name": "python",
   "nbconvert_exporter": "python",
   "pygments_lexer": "ipython2",
   "version": "2.7.6"
  }
 },
 "nbformat": 4,
 "nbformat_minor": 5
}
