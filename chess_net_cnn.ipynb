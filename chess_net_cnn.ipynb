{
 "cells": [
  {
   "cell_type": "code",
   "id": "initial_id",
   "metadata": {
    "collapsed": true,
    "ExecuteTime": {
     "end_time": "2024-08-03T09:50:02.867837Z",
     "start_time": "2024-08-03T09:50:01.325137Z"
    }
   },
   "source": [
    "import torch\n",
    "import torch.nn as nn\n",
    "from torch.utils.data import DataLoader\n",
    "import chess\n",
    "from generate_training_data import ChessDataset\n",
    "import numpy as np"
   ],
   "outputs": [],
   "execution_count": 3
  },
  {
   "metadata": {
    "ExecuteTime": {
     "end_time": "2024-08-03T09:54:54.687599Z",
     "start_time": "2024-08-03T09:50:58.108410Z"
    }
   },
   "cell_type": "code",
   "source": [
    "train_data = ChessDataset(num_examples=16384)\n",
    "train_data_loader = DataLoader(train_data, batch_size=128, shuffle=True)"
   ],
   "id": "36ed2d34b251fde2",
   "outputs": [],
   "execution_count": 7
  },
  {
   "metadata": {
    "ExecuteTime": {
     "end_time": "2024-08-03T09:55:27.112196Z",
     "start_time": "2024-08-03T09:55:27.081939Z"
    }
   },
   "cell_type": "code",
   "source": [
    "class ChessNetCNN(nn.Module):\n",
    "    def __init__(self, hidden_size):\n",
    "        super(ChessNetCNN, self).__init__()\n",
    "        self.hidden_size = hidden_size\n",
    "        self.conv1 = nn.Conv2d(in_channels=12, out_channels=hidden_size, kernel_size=3, padding=1)\n",
    "        self.conv2 = nn.Conv2d(in_channels=hidden_size, out_channels=hidden_size, kernel_size=3, padding=1)\n",
    "        self.conv3 = nn.Conv2d(in_channels=hidden_size, out_channels=hidden_size, kernel_size=3, padding=1)\n",
    "        self.bn = nn.BatchNorm2d(hidden_size)\n",
    "        self.activation = nn.ReLU()\n",
    "        \n",
    "        self.fc1 = nn.Linear(hidden_size * 8 * 8, 256)\n",
    "        self.out1 = nn.Linear(256, 64)\n",
    "        self.out2 = nn.Linear(256, 64)\n",
    "        \n",
    "    def forward(self, x):\n",
    "        x = self.activation(self.bn(self.conv1(x)))\n",
    "        x = self.activation(self.bn(self.conv2(x)))\n",
    "        x = self.activation(self.bn(self.conv3(x)))\n",
    "        x = x.view(-1, self.hidden_size * 8 * 8)\n",
    "        x = self.activation(self.fc1(x))\n",
    "        return self.out1(x), self.out2(x)\n",
    "        "
   ],
   "id": "f209f993320d81de",
   "outputs": [],
   "execution_count": 8
  },
  {
   "metadata": {
    "ExecuteTime": {
     "end_time": "2024-08-03T09:55:40.592188Z",
     "start_time": "2024-08-03T09:55:34.727918Z"
    }
   },
   "cell_type": "code",
   "source": [
    "device = torch.device(\"cuda\" if torch.cuda.is_available() else \"cpu\")\n",
    "model = ChessNetCNN(128).to(device)\n",
    "criterion = nn.CrossEntropyLoss()\n",
    "optimizer = torch.optim.Adam(model.parameters(), lr=0.001)\n",
    "scheduler = torch.optim.lr_scheduler.StepLR(optimizer, step_size=25, gamma=0.5)  # Learning rate scheduler"
   ],
   "id": "dc9c3f7e7e596783",
   "outputs": [],
   "execution_count": 9
  },
  {
   "metadata": {
    "ExecuteTime": {
     "end_time": "2024-08-03T10:28:06.633294Z",
     "start_time": "2024-08-03T09:55:55.469908Z"
    }
   },
   "cell_type": "code",
   "source": [
    "num_epochs = 200\n",
    "for epoch in range(num_epochs):\n",
    "    \n",
    "    for batch, (board, move) in enumerate(train_data_loader):\n",
    "        board = board.to(device)\n",
    "        sources = move[:, 0].to(device)\n",
    "        destinations = move[:, 1].to(device)\n",
    "        \n",
    "        pred_sources, pred_destinations = model(board)\n",
    "        loss_from = criterion(pred_sources, sources)\n",
    "        loss_to = criterion(pred_destinations, destinations)\n",
    "        \n",
    "        optimizer.zero_grad()\n",
    "        loss = loss_from + loss_to\n",
    "        loss.backward()\n",
    "        optimizer.step()\n",
    "        \n",
    "    scheduler.step()\n",
    "        \n",
    "    if epoch % 10 == 0:\n",
    "        print(f'Epoch {epoch + 1}/{num_epochs} Loss: {loss.item():.4f}')"
   ],
   "id": "5c826f43f61a4014",
   "outputs": [
    {
     "name": "stdout",
     "output_type": "stream",
     "text": [
      "Epoch 1/200 Loss: 7.3161\n",
      "Epoch 11/200 Loss: 2.4195\n",
      "Epoch 21/200 Loss: 0.5299\n",
      "Epoch 31/200 Loss: 0.2902\n",
      "Epoch 41/200 Loss: 0.2426\n",
      "Epoch 51/200 Loss: 0.3026\n",
      "Epoch 61/200 Loss: 0.2932\n",
      "Epoch 71/200 Loss: 0.3732\n",
      "Epoch 81/200 Loss: 0.1621\n",
      "Epoch 91/200 Loss: 0.3036\n",
      "Epoch 101/200 Loss: 0.1796\n",
      "Epoch 111/200 Loss: 0.2729\n",
      "Epoch 121/200 Loss: 0.1770\n",
      "Epoch 131/200 Loss: 0.0984\n",
      "Epoch 141/200 Loss: 0.1978\n",
      "Epoch 151/200 Loss: 0.0835\n",
      "Epoch 161/200 Loss: 0.1173\n",
      "Epoch 171/200 Loss: 0.2038\n",
      "Epoch 181/200 Loss: 0.0895\n",
      "Epoch 191/200 Loss: 0.1701\n"
     ]
    }
   ],
   "execution_count": 10
  },
  {
   "metadata": {
    "ExecuteTime": {
     "end_time": "2024-08-03T10:37:57.309699Z",
     "start_time": "2024-08-03T10:37:57.279881Z"
    }
   },
   "cell_type": "code",
   "source": [
    "PATH = 'chess_net_CNN___.pth'\n",
    "torch.save(model.state_dict(), PATH)"
   ],
   "id": "268efe519e74f17d",
   "outputs": [],
   "execution_count": 11
  },
  {
   "metadata": {
    "ExecuteTime": {
     "end_time": "2024-08-03T10:38:05.127240Z",
     "start_time": "2024-08-03T10:38:05.094088Z"
    }
   },
   "cell_type": "code",
   "source": [
    "device = torch.device(\"cuda\" if torch.cuda.is_available() else \"cpu\")\n",
    "model = ChessNetCNN(hidden_size=128).to(device)\n",
    "model.load_state_dict(torch.load('chess_net_CNN___.pth'))"
   ],
   "id": "dee4a47b19cbef65",
   "outputs": [
    {
     "data": {
      "text/plain": [
       "<All keys matched successfully>"
      ]
     },
     "execution_count": 12,
     "metadata": {},
     "output_type": "execute_result"
    }
   ],
   "execution_count": 12
  },
  {
   "metadata": {
    "ExecuteTime": {
     "end_time": "2024-08-03T10:38:10.965868Z",
     "start_time": "2024-08-03T10:38:10.746869Z"
    }
   },
   "cell_type": "code",
   "source": [
    "import chess.engine\n",
    "\n",
    "engine = chess.engine.SimpleEngine.popen_uci(r\"C:\\Users\\jaint\\stockfish\\stockfish-windows-x86-64-avx2\")\n",
    "\n",
    "\n",
    "# stockfish's evaluation for a position will be the reward for the RL algorithm\n",
    "\n",
    "def evaluate_board(board):\n",
    "    result = engine.analyse(board, chess.engine.Limit(\n",
    "        time=0.1))  # gives stockfish score of the current position (scaled up by 100)\n",
    "    evaluation = result[\"score\"]\n",
    "    if evaluation.is_mate():  # score() returns None if the position has forced mate - so it is handled separately\n",
    "        plies = evaluation.pov(chess.WHITE).mate()\n",
    "        if plies > 0:  # White is the one checkmating\n",
    "            return 21 - plies  # return a large positive score that decays with the number of moves till mate\n",
    "        return -21 - plies  # Black is the one checkmating\n",
    "    return result[\"score\"].relative.score() / 100"
   ],
   "id": "fd8d3e2d1dee9cd4",
   "outputs": [],
   "execution_count": 13
  },
  {
   "metadata": {
    "ExecuteTime": {
     "end_time": "2024-08-03T11:21:48.329740Z",
     "start_time": "2024-08-03T10:38:29.678704Z"
    }
   },
   "cell_type": "code",
   "source": [
    "from chess_board import get_chess_board, square_to_uci\n",
    "import random\n",
    "\n",
    "memory = []\n",
    "max_memory = 10000\n",
    "epsilon = 0.2  # exploration chance\n",
    "batch_size = 1\n",
    "gamma = 0.99\n",
    "\n",
    "loss_fn = nn.MSELoss()\n",
    "optimizer = torch.optim.Adam(model.parameters(), lr=1e-3)\n",
    "\n",
    "\n",
    "def random_board(max_depth=30):\n",
    "    depth = random.randint(0, max_depth)\n",
    "    board = chess.Board()\n",
    "    try:\n",
    "        for _ in range(depth):\n",
    "            board.push(random.choice(list(board.legal_moves)))\n",
    "        return board\n",
    "    except IndexError:\n",
    "        return board\n",
    "\n",
    "\n",
    "def choose_action(curr_board):\n",
    "    if random.random() < epsilon:\n",
    "        return random.choice(list(curr_board.legal_moves))\n",
    "\n",
    "    tensor = torch.from_numpy(get_chess_board(board).reshape(1, 12, 8, 8).astype(np.float32)).to(device)\n",
    "    move_source, move_destination = model(tensor)\n",
    "    move_source = square_to_uci(torch.argmax(move_source, 1)[0].data.item())\n",
    "    move_destination = square_to_uci(torch.argmax(move_destination, 1)[0].data.item())\n",
    "    if move_source == move_destination:  # NULL move\n",
    "        UCI = '0000'\n",
    "    else:\n",
    "        UCI = move_source + move_destination\n",
    "\n",
    "    return chess.Move.from_uci(UCI)  # convert it to chess' Move class\n",
    "\n",
    "\n",
    "def train():\n",
    "    if len(memory) < batch_size:\n",
    "        return\n",
    "\n",
    "    batch = random.sample(memory, batch_size)\n",
    "    next_states, actions, rewards, dones = zip(*batch)\n",
    "\n",
    "    rewards = torch.tensor(rewards, dtype=torch.float32).reshape(batch_size).to(device)  # Convert rewards to a tensor\n",
    "    dones = torch.tensor(dones, dtype=torch.float32).reshape(batch_size).to(device)  # Convert dones to a tensor\n",
    "\n",
    "    q_from = torch.tensor([a.from_square for a in actions]).to(device)\n",
    "    q_to = torch.tensor([a.to_square for a in actions]).to(device)\n",
    "\n",
    "    next_from_values = torch.zeros(batch_size).to(device)\n",
    "    next_to_values = torch.zeros(batch_size).to(device)\n",
    "\n",
    "    for i, s in enumerate(next_states):\n",
    "        if s:\n",
    "            scores = {}\n",
    "            for move in s.legal_moves:\n",
    "                s.push(move)\n",
    "                scores[move] = evaluate_board(s)\n",
    "                s.pop()\n",
    "            if s.turn == chess.WHITE:\n",
    "                best_move, _ = max(scores.items(), key=lambda x: x[1])\n",
    "            else:\n",
    "                best_move, _ = min(scores.items(), key=lambda x: x[1])\n",
    "            next_from_values[i] = best_move.from_square\n",
    "            next_to_values[i] = best_move.to_square\n",
    "\n",
    "    y_from = rewards + gamma * next_from_values * (1 - dones)\n",
    "    y_to = rewards + gamma * next_to_values * (1 - dones)\n",
    "\n",
    "    loss_f = loss_fn(q_from, y_from)\n",
    "    loss_t = loss_fn(q_to, y_to)\n",
    "\n",
    "    loss = loss_f + loss_t\n",
    "    loss.requires_grad = True\n",
    "    optimizer.zero_grad()\n",
    "    loss.backward()\n",
    "    optimizer.step()\n",
    "\n",
    "\n",
    "for episode in range(2000):\n",
    "\n",
    "    board = random_board()\n",
    "\n",
    "    while not board.is_game_over():\n",
    "        state = torch.from_numpy(get_chess_board(board).astype(np.float32))\n",
    "        action = choose_action(board)\n",
    "\n",
    "        if action in list(board.legal_moves):\n",
    "            reward = evaluate_board(board)\n",
    "            done = board.is_game_over()\n",
    "            board.push(action)\n",
    "            memory.append((board, action, reward, done))\n",
    "        else:\n",
    "            reward = -60\n",
    "            done = 1\n",
    "            memory.append((None, action, reward, done))\n",
    "\n",
    "        if len(memory) > max_memory:\n",
    "            memory.pop(0)\n",
    "\n",
    "        if done:\n",
    "            break\n",
    "    train()\n",
    "    if episode % 20 == 0:\n",
    "        print(f\"Episode: {episode}\")"
   ],
   "id": "6a5981e284dddf08",
   "outputs": [
    {
     "name": "stdout",
     "output_type": "stream",
     "text": [
      "Episode: 0\n",
      "Episode: 20\n",
      "Episode: 40\n",
      "Episode: 60\n",
      "Episode: 80\n",
      "Episode: 100\n",
      "Episode: 120\n",
      "Episode: 140\n",
      "Episode: 160\n",
      "Episode: 180\n",
      "Episode: 200\n",
      "Episode: 220\n",
      "Episode: 240\n",
      "Episode: 260\n",
      "Episode: 280\n",
      "Episode: 300\n",
      "Episode: 320\n",
      "Episode: 340\n",
      "Episode: 360\n",
      "Episode: 380\n",
      "Episode: 400\n",
      "Episode: 420\n",
      "Episode: 440\n",
      "Episode: 460\n",
      "Episode: 480\n",
      "Episode: 500\n",
      "Episode: 520\n",
      "Episode: 540\n",
      "Episode: 560\n",
      "Episode: 580\n",
      "Episode: 600\n",
      "Episode: 620\n",
      "Episode: 640\n",
      "Episode: 660\n",
      "Episode: 680\n",
      "Episode: 700\n",
      "Episode: 720\n",
      "Episode: 740\n",
      "Episode: 760\n",
      "Episode: 780\n",
      "Episode: 800\n",
      "Episode: 820\n",
      "Episode: 840\n",
      "Episode: 860\n",
      "Episode: 880\n",
      "Episode: 900\n",
      "Episode: 920\n",
      "Episode: 940\n",
      "Episode: 960\n",
      "Episode: 980\n",
      "Episode: 1000\n",
      "Episode: 1020\n",
      "Episode: 1040\n",
      "Episode: 1060\n",
      "Episode: 1080\n",
      "Episode: 1100\n",
      "Episode: 1120\n",
      "Episode: 1140\n",
      "Episode: 1160\n",
      "Episode: 1180\n",
      "Episode: 1200\n",
      "Episode: 1220\n",
      "Episode: 1240\n",
      "Episode: 1260\n",
      "Episode: 1280\n",
      "Episode: 1300\n",
      "Episode: 1320\n",
      "Episode: 1340\n",
      "Episode: 1360\n",
      "Episode: 1380\n",
      "Episode: 1400\n",
      "Episode: 1420\n",
      "Episode: 1440\n",
      "Episode: 1460\n",
      "Episode: 1480\n",
      "Episode: 1500\n",
      "Episode: 1520\n",
      "Episode: 1540\n",
      "Episode: 1560\n",
      "Episode: 1580\n",
      "Episode: 1600\n",
      "Episode: 1620\n",
      "Episode: 1640\n",
      "Episode: 1660\n",
      "Episode: 1680\n",
      "Episode: 1700\n",
      "Episode: 1720\n",
      "Episode: 1740\n",
      "Episode: 1760\n",
      "Episode: 1780\n",
      "Episode: 1800\n",
      "Episode: 1820\n",
      "Episode: 1840\n",
      "Episode: 1860\n",
      "Episode: 1880\n",
      "Episode: 1900\n",
      "Episode: 1920\n",
      "Episode: 1940\n",
      "Episode: 1960\n",
      "Episode: 1980\n"
     ]
    }
   ],
   "execution_count": 15
  },
  {
   "metadata": {
    "ExecuteTime": {
     "end_time": "2024-08-03T14:18:16.615706Z",
     "start_time": "2024-08-03T14:18:16.578752Z"
    }
   },
   "cell_type": "code",
   "source": [
    "PATH = 'chess_net_CNN_RL___.pth'\n",
    "torch.save(model.state_dict(), PATH)"
   ],
   "id": "4bbcfd40cd3a5cf6",
   "outputs": [],
   "execution_count": 16
  },
  {
   "metadata": {
    "ExecuteTime": {
     "end_time": "2024-08-03T14:18:20.742877Z",
     "start_time": "2024-08-03T14:18:20.335447Z"
    }
   },
   "cell_type": "code",
   "source": [
    "from chess_board import square_to_uci, get_chess_board\n",
    "\n",
    "new_board = chess.Board()\n",
    "    \n",
    "with torch.no_grad():\n",
    "    \n",
    "    while not new_board.is_game_over():\n",
    "        featurized = torch.from_numpy(get_chess_board(new_board).reshape(1, 12, 8, 8).astype(np.float32))\n",
    "        \n",
    "        predicted_source, predicted_destination = model(featurized)\n",
    "        source = square_to_uci(torch.argmax(predicted_source, 1)[0].data.item())\n",
    "        destination = square_to_uci(torch.argmax(predicted_destination, 1)[0].data.item())\n",
    "        \n",
    "        uci = source + destination\n",
    "        print(uci)\n",
    "        new_board.push_uci(uci)"
   ],
   "id": "3d2d261655d89dc6",
   "outputs": [
    {
     "name": "stdout",
     "output_type": "stream",
     "text": [
      "d2d3\n",
      "c7c5\n",
      "c1d2\n",
      "g7g6\n",
      "d2c3\n",
      "g8f6\n",
      "c3f6\n",
      "e7f6\n",
      "c2c3\n",
      "f8g7\n",
      "d1d2\n",
      "e8g8\n",
      "d2e3\n",
      "b8c6\n",
      "f2f4\n",
      "b7b6\n",
      "g2g4\n",
      "f1b7\n"
     ]
    },
    {
     "ename": "IllegalMoveError",
     "evalue": "illegal uci: 'f1b7' in r1bq1rk1/p2p1pbp/1pn2pp1/2p5/5PP1/2PPQ3/PP2P2P/RN2KBNR b KQ - 0 9",
     "output_type": "error",
     "traceback": [
      "\u001B[1;31m---------------------------------------------------------------------------\u001B[0m",
      "\u001B[1;31mIllegalMoveError\u001B[0m                          Traceback (most recent call last)",
      "Cell \u001B[1;32mIn[17], line 16\u001B[0m\n\u001B[0;32m     14\u001B[0m uci \u001B[38;5;241m=\u001B[39m source \u001B[38;5;241m+\u001B[39m destination\n\u001B[0;32m     15\u001B[0m \u001B[38;5;28mprint\u001B[39m(uci)\n\u001B[1;32m---> 16\u001B[0m \u001B[43mnew_board\u001B[49m\u001B[38;5;241;43m.\u001B[39;49m\u001B[43mpush_uci\u001B[49m\u001B[43m(\u001B[49m\u001B[43muci\u001B[49m\u001B[43m)\u001B[49m\n",
      "File \u001B[1;32m~\\PycharmProjects\\pythonProject\\venv\\lib\\site-packages\\chess\\__init__.py:3164\u001B[0m, in \u001B[0;36mBoard.push_uci\u001B[1;34m(self, uci)\u001B[0m\n\u001B[0;32m   3151\u001B[0m \u001B[38;5;28;01mdef\u001B[39;00m \u001B[38;5;21mpush_uci\u001B[39m(\u001B[38;5;28mself\u001B[39m, uci: \u001B[38;5;28mstr\u001B[39m) \u001B[38;5;241m-\u001B[39m\u001B[38;5;241m>\u001B[39m Move:\n\u001B[0;32m   3152\u001B[0m \u001B[38;5;250m    \u001B[39m\u001B[38;5;124;03m\"\"\"\u001B[39;00m\n\u001B[0;32m   3153\u001B[0m \u001B[38;5;124;03m    Parses a move in UCI notation and puts it on the move stack.\u001B[39;00m\n\u001B[0;32m   3154\u001B[0m \n\u001B[1;32m   (...)\u001B[0m\n\u001B[0;32m   3162\u001B[0m \u001B[38;5;124;03m        - :exc:`IllegalMoveError` if the UCI is illegal.\u001B[39;00m\n\u001B[0;32m   3163\u001B[0m \u001B[38;5;124;03m    \"\"\"\u001B[39;00m\n\u001B[1;32m-> 3164\u001B[0m     move \u001B[38;5;241m=\u001B[39m \u001B[38;5;28;43mself\u001B[39;49m\u001B[38;5;241;43m.\u001B[39;49m\u001B[43mparse_uci\u001B[49m\u001B[43m(\u001B[49m\u001B[43muci\u001B[49m\u001B[43m)\u001B[49m\n\u001B[0;32m   3165\u001B[0m     \u001B[38;5;28mself\u001B[39m\u001B[38;5;241m.\u001B[39mpush(move)\n\u001B[0;32m   3166\u001B[0m     \u001B[38;5;28;01mreturn\u001B[39;00m move\n",
      "File \u001B[1;32m~\\PycharmProjects\\pythonProject\\venv\\lib\\site-packages\\chess\\__init__.py:3147\u001B[0m, in \u001B[0;36mBoard.parse_uci\u001B[1;34m(self, uci)\u001B[0m\n\u001B[0;32m   3144\u001B[0m move \u001B[38;5;241m=\u001B[39m \u001B[38;5;28mself\u001B[39m\u001B[38;5;241m.\u001B[39m_from_chess960(\u001B[38;5;28mself\u001B[39m\u001B[38;5;241m.\u001B[39mchess960, move\u001B[38;5;241m.\u001B[39mfrom_square, move\u001B[38;5;241m.\u001B[39mto_square, move\u001B[38;5;241m.\u001B[39mpromotion, move\u001B[38;5;241m.\u001B[39mdrop)\n\u001B[0;32m   3146\u001B[0m \u001B[38;5;28;01mif\u001B[39;00m \u001B[38;5;129;01mnot\u001B[39;00m \u001B[38;5;28mself\u001B[39m\u001B[38;5;241m.\u001B[39mis_legal(move):\n\u001B[1;32m-> 3147\u001B[0m     \u001B[38;5;28;01mraise\u001B[39;00m IllegalMoveError(\u001B[38;5;124mf\u001B[39m\u001B[38;5;124m\"\u001B[39m\u001B[38;5;124millegal uci: \u001B[39m\u001B[38;5;132;01m{\u001B[39;00muci\u001B[38;5;132;01m!r}\u001B[39;00m\u001B[38;5;124m in \u001B[39m\u001B[38;5;132;01m{\u001B[39;00m\u001B[38;5;28mself\u001B[39m\u001B[38;5;241m.\u001B[39mfen()\u001B[38;5;132;01m}\u001B[39;00m\u001B[38;5;124m\"\u001B[39m)\n\u001B[0;32m   3149\u001B[0m \u001B[38;5;28;01mreturn\u001B[39;00m move\n",
      "\u001B[1;31mIllegalMoveError\u001B[0m: illegal uci: 'f1b7' in r1bq1rk1/p2p1pbp/1pn2pp1/2p5/5PP1/2PPQ3/PP2P2P/RN2KBNR b KQ - 0 9"
     ]
    }
   ],
   "execution_count": 17
  },
  {
   "metadata": {},
   "cell_type": "markdown",
   "source": "",
   "id": "ec7384e2443b8f58"
  }
 ],
 "metadata": {
  "kernelspec": {
   "display_name": "Python 3",
   "language": "python",
   "name": "python3"
  },
  "language_info": {
   "codemirror_mode": {
    "name": "ipython",
    "version": 2
   },
   "file_extension": ".py",
   "mimetype": "text/x-python",
   "name": "python",
   "nbconvert_exporter": "python",
   "pygments_lexer": "ipython2",
   "version": "2.7.6"
  }
 },
 "nbformat": 4,
 "nbformat_minor": 5
}
