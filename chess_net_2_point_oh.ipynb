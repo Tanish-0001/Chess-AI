{
 "cells": [
  {
   "cell_type": "code",
   "id": "initial_id",
   "metadata": {
    "ExecuteTime": {
     "end_time": "2024-12-23T05:25:40.598682Z",
     "start_time": "2024-12-23T05:25:32.393349Z"
    }
   },
   "source": [
    "import torch\n",
    "import torch.nn as nn\n",
    "import torch.nn.functional as F\n",
    "from torch.utils.data import DataLoader\n",
    "import numpy as np\n",
    "import random\n",
    "from chess_board import get_chess_board\n",
    "import chess\n",
    "from generate_training_data import ChessDataset"
   ],
   "outputs": [],
   "execution_count": 1
  },
  {
   "cell_type": "code",
   "id": "4350b3bb18f77086",
   "metadata": {
    "ExecuteTime": {
     "end_time": "2024-12-23T05:25:41.877760Z",
     "start_time": "2024-12-23T05:25:40.617594Z"
    }
   },
   "source": [
    "class ChessNetCNN(nn.Module):\n",
    "    def __init__(self):\n",
    "        super(ChessNetCNN, self).__init__()\n",
    "\n",
    "        # Convolutional layers\n",
    "        self.input = nn.Conv2d(in_channels=12, out_channels=32, kernel_size=5, padding=2)  # size after = (batch, 32, 8, 8)\n",
    "        self.conv1 = nn.Conv2d(in_channels=32, out_channels=64, kernel_size=3, padding=1)  # size after = (batch, 64, 8, 8)\n",
    "        self.conv2 = nn.Conv2d(in_channels=64, out_channels=128, kernel_size=3, padding=1)  # size after = (batch, 128, 8, 8)\n",
    "        self.bn1 = nn.BatchNorm2d(64)\n",
    "        self.bn2 = nn.BatchNorm2d(128)\n",
    "        self.activation = nn.ReLU()\n",
    "\n",
    "        # Fully connected layers\n",
    "        self.fc1 = nn.Linear(128 * 8 * 8, 1024)\n",
    "        self.dropout = nn.Dropout(0.5)\n",
    "        self.out = nn.Linear(1024, 4096)\n",
    "\n",
    "    def forward(self, x):\n",
    "        # Convolutional layers\n",
    "        x = self.activation(self.input(x))\n",
    "        x = self.activation(self.bn1(self.conv1(x)))\n",
    "        x = self.activation(self.bn2(self.conv2(x)))\n",
    "        x = x.view(-1, 128 * 8 * 8)\n",
    "\n",
    "        # Fully connected layers\n",
    "        x = self.dropout(F.relu(self.fc1(x)))\n",
    "        return self.out(x)\n",
    "    \n",
    "    \n",
    "device = torch.device(\"cuda\" if torch.cuda.is_available() else \"cpu\")"
   ],
   "outputs": [],
   "execution_count": 2
  },
  {
   "cell_type": "code",
   "id": "4ec60c72e7269f49",
   "metadata": {},
   "source": [
    "model = ChessNetCNN().to(device)\n",
    "criterion = nn.CrossEntropyLoss()\n",
    "optimizer = torch.optim.Adam(model.parameters(), lr=0.001)\n",
    "scheduler = torch.optim.lr_scheduler.StepLR(optimizer, step_size=20, gamma=0.5)  # decay by half every 20 epochs"
   ],
   "outputs": [],
   "execution_count": null
  },
  {
   "metadata": {},
   "cell_type": "code",
   "outputs": [],
   "execution_count": null,
   "source": [
    "train_data = ChessDataset(num_examples=8192)\n",
    "train_data_loader = DataLoader(train_data, batch_size=64, shuffle=True)"
   ],
   "id": "f828af264844d3ee"
  },
  {
   "cell_type": "code",
   "id": "c4f24ce87449c4a4",
   "metadata": {},
   "source": [
    "num_epochs = 200\n",
    "for epoch in range(num_epochs):\n",
    "\n",
    "    for batch, (board, move) in enumerate(train_data_loader):\n",
    "        board = board.to(device)\n",
    "        sources = move[:, 0].to(device)  # take the source square of each move\n",
    "        destinations = move[:, 1].to(device)  # take the destination square of each move\n",
    "\n",
    "        target_array = torch.zeros((sources.shape[0], 4096)).to(device)\n",
    "        indices = (64 * sources) + destinations\n",
    "        target_array[torch.arange(sources.shape[0]), indices] = 1\n",
    "\n",
    "        predicted_array = model(board)\n",
    "\n",
    "        loss = criterion(predicted_array, target_array)\n",
    "\n",
    "        optimizer.zero_grad()\n",
    "        loss.backward()\n",
    "        optimizer.step()\n",
    "\n",
    "    scheduler.step()\n",
    "\n",
    "    if epoch % 25 == 0:\n",
    "        print(f'Epoch {epoch + 1}/{num_epochs} Loss: {loss.item():.4f}')\n",
    "print(f\"Final loss: {loss.item():.4f}\")"
   ],
   "outputs": [],
   "execution_count": null
  },
  {
   "cell_type": "code",
   "id": "949e3133b0da9f14",
   "metadata": {},
   "source": [
    "# PATH = 'new_net.pth'\n",
    "# torch.save(model.state_dict(), PATH)"
   ],
   "outputs": [],
   "execution_count": null
  },
  {
   "metadata": {
    "ExecuteTime": {
     "end_time": "2024-12-23T05:25:43.120588Z",
     "start_time": "2024-12-23T05:25:42.134745Z"
    }
   },
   "cell_type": "code",
   "source": [
    "model = ChessNetCNN().to(device)\n",
    "model.load_state_dict(torch.load('new_net.pth', weights_only=True))"
   ],
   "id": "df96342faf6a1796",
   "outputs": [
    {
     "data": {
      "text/plain": [
       "<All keys matched successfully>"
      ]
     },
     "execution_count": 3,
     "metadata": {},
     "output_type": "execute_result"
    }
   ],
   "execution_count": 3
  },
  {
   "cell_type": "code",
   "id": "8e09983d0c3e0734",
   "metadata": {
    "ExecuteTime": {
     "end_time": "2024-12-22T18:12:04.198593Z",
     "start_time": "2024-12-22T18:12:03.904473Z"
    }
   },
   "source": [
    "# Checking how well the model can play after initial training - goal is for it to play legal moves, regardless of how good or bad they are\n",
    "\n",
    "board = chess.Board()\n",
    "uci_moves = []\n",
    "with torch.no_grad():\n",
    "    model.eval()\n",
    "    count = 0\n",
    "    try:\n",
    "        while not board.is_game_over():\n",
    "            featurized = torch.from_numpy(get_chess_board(board).reshape(1, 12, 8, 8).astype(np.float32)).to(device)\n",
    "    \n",
    "            predicted_array = model(featurized)\n",
    "            predicted_move = torch.argmax(predicted_array, dim=1).item()\n",
    "            source = chess.square_name(predicted_move // 64)\n",
    "            destination = chess.square_name(predicted_move % 64)\n",
    "    \n",
    "            uci = source + destination\n",
    "            uci_moves.append(uci)\n",
    "            board.push_uci(uci)\n",
    "            \n",
    "            count += 1\n",
    "            \n",
    "    except chess.IllegalMoveError:\n",
    "        print(f\"Count={count}\")\n"
   ],
   "outputs": [
    {
     "name": "stdout",
     "output_type": "stream",
     "text": [
      "Count=41\n"
     ]
    }
   ],
   "execution_count": 4
  },
  {
   "metadata": {},
   "cell_type": "code",
   "source": [
    "import chess.pgn\n",
    "\n",
    "game = chess.pgn.Game()\n",
    "\n",
    "# metadata\n",
    "game.headers[\"Event\"] = \"Example Game\"\n",
    "game.headers[\"Site\"] = \"None\"\n",
    "game.headers[\"Date\"] = \"2024.12.21\"\n",
    "game.headers[\"Round\"] = \"1\"\n",
    "game.headers[\"White\"] = \"Chess Net\"\n",
    "game.headers[\"Black\"] = \"Also Chess Net\"\n",
    "game.headers[\"Result\"] = \"*\"\n",
    "\n",
    "# Add moves to the PGN\n",
    "node = game\n",
    "for move in board.move_stack:\n",
    "    node = node.add_variation(move)\n",
    "\n",
    "with open(\"game.pgn\", \"w\") as f:\n",
    "    print(game, file=f)"
   ],
   "id": "8ce24a0fb77bba05",
   "outputs": [],
   "execution_count": null
  },
  {
   "cell_type": "code",
   "id": "ae110e4ca259a3a6",
   "metadata": {
    "ExecuteTime": {
     "end_time": "2024-12-23T05:25:45.131400Z",
     "start_time": "2024-12-23T05:25:44.730478Z"
    }
   },
   "source": [
    "import chess.engine\n",
    "\n",
    "engine = chess.engine.SimpleEngine.popen_uci(r\"C:\\Users\\jaint\\stockfish\\stockfish-windows-x86-64-avx2\")\n",
    "\n",
    "def evaluate_board(board, color=1):\n",
    "    \"\"\"\n",
    "    :param board: chess.Board, position to be evaluated\n",
    "    :param color: int, perspective of the bot, 0 = black and 1 = white\n",
    "    :return: score: int, stockfish evaluation of the position\n",
    "    \"\"\"\n",
    "    try:\n",
    "        result = engine.analyse(board, chess.engine.Limit(depth=15, time=0.2))  # gives stockfish score (scaled up by 100)\n",
    "        evaluation = result[\"score\"]\n",
    "\n",
    "        if evaluation.is_mate():  # score returns None if the position has forced mate\n",
    "            plies = evaluation.pov(chess.WHITE).mate()\n",
    "            if plies > 0:  # White is the one checkmating\n",
    "                score =  100 - plies  # return a large positive score that decays with the number of moves till mate\n",
    "            else:\n",
    "                score =  (-100 - plies)  # Black is the one checkmating\n",
    "        else:\n",
    "            score = evaluation.relative.score() / 100\n",
    "\n",
    "        return score if color else -score\n",
    "    except:\n",
    "        return 0"
   ],
   "outputs": [],
   "execution_count": 4
  },
  {
   "metadata": {
    "ExecuteTime": {
     "end_time": "2024-12-23T05:25:49.019329Z",
     "start_time": "2024-12-23T05:25:49.009456Z"
    }
   },
   "cell_type": "code",
   "source": [
    "def random_board(max_depth=20):\n",
    "\n",
    "    depth = random.randint(0, max_depth)\n",
    "    board = chess.Board()\n",
    "    try:\n",
    "        for _ in range(depth):\n",
    "            board.push(random.choice(list(board.legal_moves)))\n",
    "        return board\n",
    "    except IndexError:\n",
    "        return board"
   ],
   "id": "5a2d661c231c0b8b",
   "outputs": [],
   "execution_count": 5
  },
  {
   "metadata": {
    "jupyter": {
     "is_executing": true
    },
    "ExecuteTime": {
     "start_time": "2024-12-23T05:25:52.461188Z"
    }
   },
   "cell_type": "code",
   "source": [
    "from copy import deepcopy\n",
    "from collections import deque\n",
    "\n",
    "target_network = deepcopy(model)\n",
    "checkpoint_path = 'RL_checkpoint.pth'\n",
    "max_memory = 10_000\n",
    "memory = deque(maxlen=max_memory)  # automatically discards earlier entries when max memory is hit\n",
    "epsilon = 0.2  # exploration chance\n",
    "batch_size = 16\n",
    "gamma = 0.995  # bellman equation constant\n",
    "\n",
    "loss_fn = nn.MSELoss()\n",
    "optimizer = torch.optim.Adam(model.parameters(), lr=1e-3)\n",
    "\n",
    "\n",
    "def choose_action(curr_board):\n",
    "    legal_moves = list(curr_board.legal_moves)\n",
    "    if random.random() < epsilon:  # exploration\n",
    "        random_move = random.choice(legal_moves)\n",
    "        src = random_move.from_square\n",
    "        dest = random_move.to_square\n",
    "        index = src * 64 + dest\n",
    "        return random_move, index\n",
    "\n",
    "    tensor = torch.from_numpy(get_chess_board(curr_board).reshape(1, 12, 8, 8).astype(np.float32)).to(device)\n",
    "    move_distribution = model(tensor)\n",
    "    move_distribution = F.softmax(move_distribution, dim=1)\n",
    "\n",
    "    legal_move_mask = torch.zeros(4096, device=device)\n",
    "    for move in legal_moves:\n",
    "        src = move.from_square\n",
    "        dst = move.to_square\n",
    "        idx = src * 64 + dst\n",
    "        legal_move_mask[idx] = 1\n",
    "\n",
    "    masked_distribution = move_distribution * legal_move_mask  # set probability of illegal moves to 0\n",
    "    best_move_index = torch.argmax(masked_distribution, dim=1).item()\n",
    "    source = chess.square_name(best_move_index // 64)\n",
    "    destination = chess.square_name(best_move_index % 64)\n",
    "    return chess.Move.from_uci(source + destination), best_move_index\n",
    "\n",
    "\n",
    "def train():\n",
    "    if len(memory) < batch_size:\n",
    "        return\n",
    "\n",
    "    batch = random.sample(memory, batch_size)\n",
    "    next_states, states, actions, rewards, dones = zip(*batch)\n",
    "\n",
    "    states = torch.stack(states)\n",
    "    actions = torch.tensor(actions, dtype=torch.int64, device=device).reshape(batch_size)\n",
    "    rewards = torch.tensor(rewards, dtype=torch.float32).reshape(batch_size).to(device)  # Convert rewards to a tensor\n",
    "    dones = torch.tensor(dones, dtype=torch.float32).reshape(batch_size).to(device)  # Convert dones to a tensor\n",
    "\n",
    "    q_values = model(states)\n",
    "\n",
    "    non_terminal_mask = torch.tensor([s is not None for s in next_states], dtype=torch.bool)  # a mask to filter out null next_states\n",
    "    next_q_values = torch.zeros(batch_size, device=device)\n",
    "\n",
    "    if non_terminal_mask.any():\n",
    "        non_terminal_next_states = torch.stack([torch.tensor(s, dtype=torch.float32) for s in next_states if s is not None]).to(device)\n",
    "        next_q_values[non_terminal_mask] = torch.max(target_network(non_terminal_next_states), dim=1).values\n",
    "\n",
    "    target_q_values = rewards + gamma * next_q_values * (1 - dones)\n",
    "    predicted_q_values = q_values.gather(1, actions.unsqueeze(1)).squeeze(1)\n",
    "\n",
    "    loss = loss_fn(target_q_values, predicted_q_values)\n",
    "    optimizer.zero_grad()\n",
    "    loss.backward()\n",
    "    optimizer.step()\n",
    "\n",
    "\n",
    "for episode in range(10):\n",
    "\n",
    "    board = random_board()\n",
    "\n",
    "    while not board.is_game_over():\n",
    "        state = torch.from_numpy(get_chess_board(board).astype(np.float32)).reshape(12, 8, 8).to(device)\n",
    "        action, i = choose_action(board)\n",
    "        reward = evaluate_board(board)\n",
    "        done = board.is_game_over()\n",
    "\n",
    "        if not done:\n",
    "            board.push(action)\n",
    "            memory.append((get_chess_board(board), state, i, reward, done))\n",
    "        else:\n",
    "            memory.append((None, state, i, reward, done))\n",
    "\n",
    "    if episode % 5 == 0:\n",
    "        train()\n",
    "        epsilon = max(0.05, epsilon * 0.995)\n",
    "\n",
    "    if episode % 200 == 0:\n",
    "        torch.save({'model_state_dict': model.state_dict(),\n",
    "                    'optimizer_state_dict': optimizer.state_dict(),\n",
    "                    'target_network_state_dict': target_network.state_dict(),\n",
    "                    'epsilon': epsilon,\n",
    "                    'memory': memory}, checkpoint_path)\n",
    "    if episode % 1 == 0:\n",
    "        target_network.load_state_dict(model.state_dict())\n",
    "        print(f\"Episode: {episode}\")"
   ],
   "id": "f7987eb2fad91b9f",
   "outputs": [],
   "execution_count": null
  },
  {
   "cell_type": "code",
   "id": "9fdb41a600992c9d",
   "metadata": {},
   "source": [
    "PATH = 'RL_savepoint.pth'\n",
    "torch.save(model.state_dict(), PATH)"
   ],
   "outputs": [],
   "execution_count": null
  },
  {
   "cell_type": "code",
   "id": "fbdab958",
   "metadata": {},
   "source": [
    "model = ChessNetCNN().to(device)\n",
    "model.load_state_dict(torch.load('chess_net_CNN_RL2.pth'))"
   ],
   "outputs": [],
   "execution_count": null
  },
  {
   "cell_type": "code",
   "id": "1c57e6ef4bc21498",
   "metadata": {},
   "source": [
    "import chess.pgn\n",
    "\n",
    "board = chess.Board()\n",
    "uci_moves = []\n",
    "with torch.no_grad():\n",
    "    model.eval()\n",
    "    count = 0\n",
    "    try:\n",
    "        while not board.is_game_over():\n",
    "            featurized = torch.from_numpy(get_chess_board(board).reshape(1, 12, 8, 8).astype(np.float32)).to(device)\n",
    "\n",
    "            predicted_array = model(featurized)\n",
    "            predicted_move = torch.argmax(predicted_array, dim=1).item()\n",
    "            source = chess.square_name(predicted_move // 64)\n",
    "            destination = chess.square_name(predicted_move % 64)\n",
    "\n",
    "            uci = source + destination\n",
    "            uci_moves.append(uci)\n",
    "            board.push_uci(uci)\n",
    "\n",
    "            count += 1\n",
    "\n",
    "    except chess.IllegalMoveError:\n",
    "        print(f\"Count={count}\")\n",
    "\n",
    "\n",
    "game = chess.pgn.Game()\n",
    "\n",
    "# metadata\n",
    "game.headers[\"Event\"] = \"Example Game\"\n",
    "game.headers[\"Site\"] = \"None\"\n",
    "game.headers[\"Date\"] = \"2024.12.21\"\n",
    "game.headers[\"Round\"] = \"1\"\n",
    "game.headers[\"White\"] = \"Chess Net\"\n",
    "game.headers[\"Black\"] = \"Also Chess Net\"\n",
    "game.headers[\"Result\"] = \"*\"\n",
    "\n",
    "# Add moves to the PGN\n",
    "node = game\n",
    "for move in board.move_stack:\n",
    "    node = node.add_variation(move)\n",
    "\n",
    "with open(\"game_one.pgn\", \"w\") as f:\n",
    "    print(game, file=f)"
   ],
   "outputs": [],
   "execution_count": null
  },
  {
   "cell_type": "code",
   "id": "e7f080bff1261788",
   "metadata": {},
   "source": [],
   "outputs": [],
   "execution_count": null
  }
 ],
 "metadata": {
  "kernelspec": {
   "display_name": "Python 3 (ipykernel)",
   "language": "python",
   "name": "python3"
  },
  "language_info": {
   "codemirror_mode": {
    "name": "ipython",
    "version": 3
   },
   "file_extension": ".py",
   "mimetype": "text/x-python",
   "name": "python",
   "nbconvert_exporter": "python",
   "pygments_lexer": "ipython3",
   "version": "3.10.11"
  }
 },
 "nbformat": 4,
 "nbformat_minor": 5
}
